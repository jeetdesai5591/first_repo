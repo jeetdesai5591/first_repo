import numpy 
from matplotlib import pyplot
%matplotlib inline
T = 100.0
dt = 0.02
N = int(T/dt)+1
t = numpy.arange(0.0, T, N)
print(t)
