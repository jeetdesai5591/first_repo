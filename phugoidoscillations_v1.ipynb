import numpy as np
import matplotlib.pyplot as plt
%matplotlib inline
# Righthand side of differential equation
def f(x):
    return -x + 1
# Define initial condition
x0 = 0
# Time step
dt = 0.01
# Solve the differential equation from time 0 to time T
T=5
t = np.linspace(0, T, int(T/dt)+1)
x = np.zeros(len(t))
# Integrate the differential equation using Euler’s method
x[0] = x0
for i in range(1, len(t)):
    x[i] = x[i-1] + f(x[i-1])*dt

# Create a new figure
plt.figure()
# Axis labels
plt.tick_params(axis='both', labelsize=14)
plt.xlabel('t', fontsize=14) 
plt.ylabel('t', fontsize=14) 
plt.plot(t, x, 'r+')
plt.show()
